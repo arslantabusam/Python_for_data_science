{
 "cells": [
  {
   "cell_type": "code",
   "execution_count": 2,
   "id": "e5e38945",
   "metadata": {},
   "outputs": [
    {
     "name": "stdout",
     "output_type": "stream",
     "text": [
      "Table data: \n",
      "    Variance  Skewness  Curtosis  Entropy  Class\n",
      "0   3.62160    8.6661   -2.8073 -0.44699      0\n",
      "1   4.54590    8.1674   -2.4586 -1.46210      0\n",
      "2   3.86600   -2.6383    1.9242  0.10645      0\n",
      "3   3.45660    9.5228   -4.0112 -3.59440      0\n",
      "4   0.32924   -4.4552    4.5718 -0.98880      0\n",
      "\n",
      "Composition: \n",
      " (1372, 5)\n",
      "\n",
      "Confusion Matrix: \n",
      " [[156   1]\n",
      " [  1 117]]\n"
     ]
    },
    {
     "data": {
      "image/png": "[encoded data removed]",
      "text/plain": [
       "<Figure size 500x400 with 2 Axes>"
      ]
     },
     "metadata": {},
     "output_type": "display_data"
    },
    {
     "name": "stdout",
     "output_type": "stream",
     "text": [
      "\n",
      "Classification Report:\n",
      "               precision    recall  f1-score   support\n",
      "\n",
      "           0       0.99      0.99      0.99       157\n",
      "           1       0.99      0.99      0.99       118\n",
      "\n",
      "    accuracy                           0.99       275\n",
      "   macro avg       0.99      0.99      0.99       275\n",
      "weighted avg       0.99      0.99      0.99       275\n",
      "\n"
     ]
    }
   ],
   "source": [
    "# Support Vector Machine algorithm \n",
    "\n",
    "# In this program we are working again with the bill authenticity data set \n",
    "# as in decision tree classifier, trying to identify if the bank note \n",
    "# is authentic or not certain features from wavelet transformed images of bills\n",
    "# The feature include: variance, skewness, curtosis and entropy.\n",
    "# variance refers to the statistical variance of the image\n",
    "# skewness tells us how the data is shaped or distributed , could be\n",
    "# positive (towards higher values), or negative (lower values)\n",
    "# curtosis shows the shape of the distribution, how peaked or flat it is\n",
    "# entropy: It quantifies the level of randomness or uncertainty in the data.\n",
    "# The two classifier perform differently with the same the data set: \n",
    "# Svm is more accurate with an accueacy of 99% against 96%.\n",
    "import numpy as np \n",
    "import pandas as pd \n",
    "import seaborn as sns\n",
    "import matplotlib.pyplot as plt\n",
    "from sklearn.metrics import classification_report, confusion_matrix\n",
    "from sklearn.svm import SVC #import the Support Machine Classifier\n",
    "from sklearn.model_selection import train_test_split\n",
    "from matplotlib.colors import ListedColormap\n",
    "#Loading Dataset\n",
    "bill_df = pd.read_csv('bill_authentication.csv')\n",
    "print(\"Table data: \\n\", bill_df.head())\n",
    "print(\"\\nComposition: \\n\", bill_df.shape)\n",
    "#separating the input and target values the target from the input values, \n",
    "#inplace parameter changes the original data by removing the column\n",
    "targetValues = bill_df.Class\n",
    "bill_df.drop(['Class'], axis=1, inplace = True)\n",
    "y = targetValues\n",
    "X = bill_df\n",
    "x_train, x_test, y_train, y_test = train_test_split(X, y, \n",
    "                                                  test_size = 0.20, \n",
    "                                                  shuffle=True, \n",
    "                                                  random_state=1)\n",
    "svm = SVC(kernel='linear').fit(x_train, y_train)\n",
    "y_pred = svm.predict(x_test)\n",
    "cm = confusion_matrix(y_test,y_pred)\n",
    "print(\"\\nConfusion Matrix: \\n\", cm)\n",
    "# Create a heatmap of the confusion matrix\n",
    "plt.figure(figsize = (5, 4))\n",
    "sns.heatmap(confusion_matrix(y_test,y_pred), annot=True, fmt='d')\n",
    "plt.title('Confusion Matrix')\n",
    "plt.show()\n",
    "print(\"\\nClassification Report:\\n\",classification_report(y_test,y_pred))"
   ]
  }
 ],
 "metadata": {
  "kernelspec": {
   "display_name": "Python 3 (ipykernel)",
   "language": "python",
   "name": "python3"
  },
  "language_info": {
   "codemirror_mode": {
    "name": "ipython",
    "version": 3
   },
   "file_extension": ".py",
   "mimetype": "text/x-python",
   "name": "python",
   "nbconvert_exporter": "python",
   "pygments_lexer": "ipython3",
   "version": "3.10.9"
  }
 },
 "nbformat": 4,
 "nbformat_minor": 5
}
